{
 "cells": [
  {
   "cell_type": "code",
   "execution_count": 1,
   "metadata": {},
   "outputs": [],
   "source": [
    "import numpy as np"
   ]
  },
  {
   "cell_type": "markdown",
   "metadata": {},
   "source": [
    "### QUESTION 1"
   ]
  },
  {
   "cell_type": "markdown",
   "metadata": {},
   "source": [
    "Write a python program that computes the determinant of a given matrix. Your program should prompt the user to enter the number of rows and columns they want the matrix to have.\n",
    "\n",
    "NOTE: The number of rows and columns should be equal (as determinant only works for square matrix). Also, your program should allow the user to enter the values of the matrix.\n",
    "\n",
    "Your program must be dynamic i.e. it must work for any n xn matrix"
   ]
  },
  {
   "cell_type": "code",
   "execution_count": 2,
   "metadata": {},
   "outputs": [
    {
     "name": "stdout",
     "output_type": "stream",
     "text": [
      "Enter the number of rows 2\n",
      "Enter the number of columns 2\n",
      "Enter a number 5\n",
      "Enter a number 3\n",
      "Enter a number 4\n",
      "Enter a number 7\n",
      "The Determinant of the \n",
      " [[5 3]\n",
      " [4 7]] is 23.0\n"
     ]
    }
   ],
   "source": [
    "nrow = int(input(\"Enter the number of rows \"))\n",
    "ncol = int(input(\"Enter the number of columns \"))\n",
    "if (nrow == ncol):\n",
    "    count = nrow * ncol\n",
    "    i = 1\n",
    "    lister = []\n",
    "    while i <= count:\n",
    "        ele = int(input(\"Enter a number \"))\n",
    "        lister.append(ele)\n",
    "        i = i + 1\n",
    "    \n",
    "    arr = np.asarray(lister).reshape(nrow, ncol)\n",
    "    \n",
    "    # Compute the determinant\n",
    "    \n",
    "    det = np.linalg.det(arr)\n",
    "    print(\"The Determinant of the \\n {} is {}\".format(arr, det))\n",
    "else:\n",
    "    print(\"Invalid input.\\nThe number of rows and columns must be equal\")"
   ]
  },
  {
   "cell_type": "markdown",
   "metadata": {},
   "source": [
    "### QUESTION 2"
   ]
  },
  {
   "cell_type": "markdown",
   "metadata": {},
   "source": [
    "Write a python program, leveraging on numpy library to solve system of linear equation. In this case, your program must also prompt the user to enter the values of the variables present in the equation."
   ]
  },
  {
   "cell_type": "markdown",
   "metadata": {},
   "source": [
    "# SYSTEM OF LINEAR EQUATION\n",
    "suppose we<br> x + y + z = 19 <br>\n",
    "           2x + 4y   = 2 <br>\n",
    "           3x + 9y -3z = 4 <br>\n",
    " To solve the equation above we have to transform it to matrices.<br>\n",
    " By doing this we will have<br>\n",
    "<b>Matrix A</b><br>[ [ 1, 1, 1 ]<br>\n",
    "                  [ 2, 4, 0 ]<br>\n",
    "                  [ 3, 9, -3 ] ]<br>\n",
    "and a column<b> Vector B </b><br>\n",
    "[ [ 19 ]<br>\n",
    "[ 2 ]<br>\n",
    "[ 4 ] ]<br>\n",
    "\n",
    "We then compute the <b>unknown</b><br>[x,y,z]<br>\n",
    "X = A(^-1)B\n",
    "\n",
    "## The steps followed:\n",
    "1. Get all values for <b>matrix A</b><br>\n",
    "2. Then get all values for <b>column vector B</b> corresponding to each row in matrix A.<br>\n",
    "3. Then solve by leveraging on numpy ability.<br>"
   ]
  },
  {
   "cell_type": "code",
   "execution_count": 4,
   "metadata": {},
   "outputs": [
    {
     "name": "stdout",
     "output_type": "stream",
     "text": [
      "==============================WElCOME TO SYSTEM OF LINEAR EQUATION.=========================\n",
      "How many unknowns : 3\n",
      "GETTING VALUES FOR MATRIX A \n",
      "Enter values for row 0 seperated by comma (,) :  1,1,1\n",
      "Enter values for row 1 seperated by comma (,) :  3,6,7\n",
      "Enter values for row 2 seperated by comma (,) :  2,5,8\n",
      "Enter value for row 1, of the column vector:12\n",
      "Enter value for row 2, of the column vector:5\n",
      "Enter value for row 3, of the column vector:-4\n",
      "A = \n",
      " [[1 1 1]\n",
      " [3 6 7]\n",
      " [2 5 8]]\n",
      "B = \n",
      " [[12]\n",
      " [ 5]\n",
      " [-4]]\n",
      "The solution for the  equation is: \n",
      " [[13.]\n",
      " [38.]\n",
      " [17.]]\n"
     ]
    }
   ],
   "source": [
    "def getMatrixA():\n",
    "    try:\n",
    "        print(\"==============================WElCOME TO SYSTEM OF LINEAR EQUATION.=========================\")        \n",
    "        mat = []\n",
    "        rows = int(input(\"How many unknowns : \"))\n",
    "        cols = rows\n",
    "        print(\"GETTING VALUES FOR MATRIX A \")\n",
    "        for row in range(rows):\n",
    "            mat.append([])\n",
    "            values = input(\"Enter values for row {} seperated by comma (,) :  \".format(row)).split(',')\n",
    "            if len(values) == cols:\n",
    "                for i in values:\n",
    "                    mat[row].append(int(i))\n",
    "            else:\n",
    "                print(\"Column doesn't match\")\n",
    "                break\n",
    "    except ValueError as err:\n",
    "        print(err)\n",
    "        \n",
    "    return mat\n",
    "\n",
    "matrixA = getMatrixA() \n",
    "n = len(matrixA)\n",
    "\n",
    "def getVectorB():\n",
    "    try:\n",
    "        matB = []\n",
    "        for i in range(1,n+1):\n",
    "            value = eval(input(\"Enter value for row {}, of the column vector:\".format(i)))\n",
    "            matB.append(value)\n",
    "        return matB\n",
    "    except ValueError as err:\n",
    "        print(err)\n",
    "\n",
    "matrixB = getVectorB()\n",
    "\n",
    "A = np.asarray(matrixA) \n",
    "B = np.asarray(matrixB).reshape(n,1)\n",
    "\n",
    "if np.linalg.det(A) == 0:\n",
    "    print(\"Cannot compute solution for singular matrix\")\n",
    "\n",
    "else:\n",
    "\n",
    "    A_inv = np.linalg.inv(A)\n",
    "\n",
    "\n",
    "    X = np.linalg.solve(A_inv,B)\n",
    "\n",
    "    print('A = \\n', A)\n",
    "    print('B = \\n', B)\n",
    "\n",
    "\n",
    "    print(\"The solution for the  equation is: \\n\",X)\n"
   ]
  },
  {
   "cell_type": "markdown",
   "metadata": {},
   "source": [
    "### HERE IS ANOTHER FORMAT...... without handling exceptions."
   ]
  },
  {
   "cell_type": "code",
   "execution_count": 5,
   "metadata": {},
   "outputs": [
    {
     "name": "stdout",
     "output_type": "stream",
     "text": [
      "WELCOME TO SYSTEM OF LINEAR EQUATION\n",
      "Enter the number of rows: 3\n",
      "Enter the number of cols: 3\n",
      "Enter value for row 0, column 0 of the matrix: 1\n",
      "Enter value for row 0, column 1 of the matrix: 1\n",
      "Enter value for row 0, column 2 of the matrix: 1\n",
      "Enter value for row 1, column 0 of the matrix: 3\n",
      "Enter value for row 1, column 1 of the matrix: 6\n",
      "Enter value for row 1, column 2 of the matrix: 7\n",
      "Enter value for row 2, column 0 of the matrix: 2\n",
      "Enter value for row 2, column 1 of the matrix: 5\n",
      "Enter value for row 2, column 2 of the matrix: 8\n",
      "Enter value for row 1, of the column vector:12\n",
      "Enter value for row 2, of the column vector:5\n",
      "Enter value for row 3, of the column vector:-4\n",
      "A = \n",
      " [[1 1 1]\n",
      " [3 6 7]\n",
      " [2 5 8]]\n",
      "B = \n",
      " [[12]\n",
      " [ 5]\n",
      " [-4]]\n",
      "The solution for the  equation is: \n",
      " [[13.]\n",
      " [38.]\n",
      " [17.]]\n"
     ]
    }
   ],
   "source": [
    "import numpy as  np\n",
    "\n",
    "def getMatrix_A():\n",
    "    print(\"WELCOME TO SYSTEM OF LINEAR EQUATION\")\n",
    "    matA = []\n",
    "    rows = int(input(\"Enter the number of rows: \"))\n",
    "    cols = int(input(\"Enter the number of cols: \"))\n",
    "    if rows != cols:\n",
    "        print(\"Number of columns must be equal to Number of rows\")\n",
    "    else:\n",
    "\n",
    "        for row in range(rows):\n",
    "            matA.append([])\n",
    "            for col in range(cols):\n",
    "                value = eval(input(\"Enter value for row {}, column {} of the matrix: \".format(row,col)))\n",
    "                matA[row].append(value)\n",
    "    return matA\n",
    "\n",
    "matrixA = getMatrix_A()  \n",
    "n = len(matrixA)\n",
    "\n",
    "\n",
    "def getVector_B():\n",
    "    matB = []\n",
    "    for i in range(1,n+1):\n",
    "        value = eval(input(\"Enter value for row {}, of the column vector:\".format(i)))\n",
    "        matB.append(value)\n",
    "    return matB\n",
    "\n",
    "      \n",
    "matrixB = getVector_B()\n",
    "\n",
    "   \n",
    "A = np.asarray(matrixA) \n",
    "B = np.asarray(matrixB).reshape(n,1)\n",
    "\n",
    "A_inv = np.linalg.inv(A)\n",
    "\n",
    "\n",
    "X = np.linalg.solve(A_inv,B)\n",
    "\n",
    "det = np.linalg.det(A)\n",
    "\n",
    "\n",
    "\n",
    "print('A = \\n', A)\n",
    "print('B = \\n', B)\n",
    "\n",
    "\n",
    "print(\"The solution for the  equation is: \\n\",X)\n"
   ]
  },
  {
   "cell_type": "markdown",
   "metadata": {},
   "source": [
    "# THANK YOU FOR YOUR TIME"
   ]
  }
 ],
 "metadata": {
  "kernelspec": {
   "display_name": "Python 3",
   "language": "python",
   "name": "python3"
  },
  "language_info": {
   "codemirror_mode": {
    "name": "ipython",
    "version": 3
   },
   "file_extension": ".py",
   "mimetype": "text/x-python",
   "name": "python",
   "nbconvert_exporter": "python",
   "pygments_lexer": "ipython3",
   "version": "3.7.6"
  }
 },
 "nbformat": 4,
 "nbformat_minor": 4
}
